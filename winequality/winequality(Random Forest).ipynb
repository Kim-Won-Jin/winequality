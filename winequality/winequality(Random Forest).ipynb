{
 "cells": [
  {
   "cell_type": "markdown",
   "id": "0c15b005-26eb-4b5d-a238-58cf6a518f23",
   "metadata": {},
   "source": [
    "# 1. 데이터 로드 및 초기 탐색"
   ]
  },
  {
   "cell_type": "markdown",
   "id": "bfd7bd88-8576-4679-8e2f-c574bc960d51",
   "metadata": {},
   "source": [
    "#### 필요한 라이브러리를 임포트합니다.\n",
    "#### 레드 와인과 화이트 와인 데이터를 로드하고, 각 데이터셋에 와인 종류를 나타내는 새로운 열을 추가합니다.\n",
    "#### 두 데이터를 하나의 데이터프레임으로 결합하고, type 열을 숫자로 인코딩하여 모델이 이를 처리할 수 있도록 합니다."
   ]
  },
  {
   "cell_type": "raw",
   "id": "2be8780d-ab73-4324-bde7-b96a029f3545",
   "metadata": {},
   "source": [
    "fixed acidity (고정된 산도):\n",
    "와인의 고정된 산도는 발효 과정에서 변하지 않는 산 성분을 말합니다. 일반적으로 주석산, 구연산, 말산 등이 포함됩니다.\n",
    "\n",
    "volatile acidity (휘발성 산도):\n",
    "휘발성 산도는 주로 아세트산과 같은 휘발성 산이 포함되어 있으며, 와인의 발효 또는 저장 중에 발생할 수 있는 산도입니다.\n",
    "\n",
    "citric acid (구연산):\n",
    "구연산은 와인에서 약간의 신맛을 제공하며, 신선한 맛을 유지하는 데 도움을 줍니다. 일부 와인에서는 구연산이 자연적으로 존재하거나 첨가될 수 있습니다.\n",
    "\n",
    "residual sugar (잔류 당):\n",
    "잔류 당은 발효가 완료된 후 와인에 남아 있는 당분을 의미합니다.\n",
    "\n",
    "chlorides (염화물):\n",
    "염화물은 와인의 염분 수준을 나타내며, 이는 와인의 짠맛에 영향을 줄 수 있습니다.\n",
    "\n",
    "free sulfur dioxide (유리 아황산):\n",
    "유리 아황산은 와인에서 미생물의 활동을 억제하고 산화를 방지하는 보존제 역할을 합니다.\n",
    "\n",
    "total sulfur dioxide (총 아황산):\n",
    "총 아황산은 와인에 존재하는 모든 형태의 아황산을 포함하며, 보존제 역할을 합니다.\n",
    "\n",
    "density (밀도):\n",
    "와인의 밀도는 주로 알코올과 당분의 농도에 의해 결정되며, 이는 와인의 바디감과 질감을 나타내는 지표가 될 수 있습니다.\n",
    "\n",
    "pH:\n",
    "pH는 와인의 산도를 측정하는 척도로, 와인의 안정성과 맛에 영향을 미칩니다. 일반적으로 낮은 pH는 높은 산도를 의미합니다.\n",
    "\n",
    "sulphates (황산염):\n",
    "황산염은 와인의 항산화제로 사용되며, 발효를 촉진하고 와인의 맛을 개선하는 데 도움을 줄 수 있습니다.\n",
    "\n",
    "alcohol (알코올):\n",
    "알코올 함량은 발효 과정에서 당분이 알코올로 변환되어 생성됩니다. 알코올은 와인의 바디와 풍미에 영향을 미칩니다.\n",
    "\n",
    "quality (품질):\n",
    "와인의 품질은 감각적 데이터에 기반한 점수로, 일반적으로 향, 맛, 균형, 구조 등을 평가하여 0에서 10까지의 점수로 나타냅니다. 높은 점수는 더 높은 품질을 의미합니다."
   ]
  },
  {
   "cell_type": "code",
   "execution_count": 1,
   "id": "b9761b37-29ac-4cc6-980a-f32c002c9788",
   "metadata": {},
   "outputs": [],
   "source": [
    "# 필요한 라이브러리 임포트\n",
    "import pandas as pd\n",
    "import matplotlib.pyplot as plt\n",
    "import seaborn as sns\n",
    "from sklearn.model_selection import train_test_split\n",
    "from sklearn.ensemble import RandomForestClassifier\n",
    "from sklearn.metrics import accuracy_score, confusion_matrix, classification_report\n",
    "from imblearn.over_sampling import SMOTE\n",
    "\n",
    "# 데이터셋 로드\n",
    "red_wine = pd.read_csv(\"winequality-red.csv\", sep=';')\n",
    "white_wine = pd.read_csv(\"winequality-white.csv\", sep=';')\n",
    "\n",
    "# 와인 종류를 특징으로 추가\n",
    "red_wine['type'] = 'red'\n",
    "white_wine['type'] = 'white'\n",
    "\n",
    "# 데이터셋 결합\n",
    "wine_data = pd.concat([red_wine, white_wine], axis=0)\n",
    "\n",
    "# 'type' 열 인코딩\n",
    "wine_data['type'] = wine_data['type'].map({'red': 0, 'white': 1})"
   ]
  },
  {
   "cell_type": "markdown",
   "id": "7e094191-0aea-45cc-8fe4-007411212327",
   "metadata": {},
   "source": [
    "# 2. 데이터 전처리 및 분할"
   ]
  },
  {
   "cell_type": "markdown",
   "id": "566c91a1-20c2-4dbb-b831-b37d06525088",
   "metadata": {},
   "source": [
    "#### quality 열을 타겟 변수로 설정하고 나머지 열을 특징 변수로 설정합니다.\n",
    "#### 데이터를 학습 세트와 테스트 세트로 분할하여 모델의 학습과 평가에 사용합니다."
   ]
  },
  {
   "cell_type": "code",
   "execution_count": 2,
   "id": "fda758c0-24e3-4c2e-820b-d0c11daa805a",
   "metadata": {},
   "outputs": [],
   "source": [
    "# 데이터 전처리\n",
    "X = wine_data.drop('quality', axis=1)  # 특징 변수\n",
    "y = wine_data['quality']               # 타겟 변수\n",
    "\n",
    "# 학습 세트와 테스트 세트로 분할\n",
    "X_train, X_test, y_train, y_test = train_test_split(X, y, test_size=0.2, random_state=42)"
   ]
  },
  {
   "cell_type": "markdown",
   "id": "5378f257-c824-4cde-8af1-a1121d52952d",
   "metadata": {},
   "source": [
    "# 3. 오버샘플링을 통한 데이터 균형 조정"
   ]
  },
  {
   "cell_type": "markdown",
   "id": "aea89677-5742-4bd5-98fa-8afaf0e42d9b",
   "metadata": {},
   "source": [
    "#### SMOTE를 사용하여 학습 데이터의 소수 클래스를 오버샘플링합니다. 이 과정에서 k_neighbors 파라미터를 조정하여 오류를 방지합니다.\n",
    "#### 오버샘플링 전후의 클래스 분포를 출력하여 결과를 확인합니다."
   ]
  },
  {
   "cell_type": "code",
   "execution_count": 3,
   "id": "05bb771a-6615-4170-b576-8b1d5224486f",
   "metadata": {},
   "outputs": [
    {
     "name": "stdout",
     "output_type": "stream",
     "text": [
      "클래스 분포:\n",
      " quality\n",
      "6    2239\n",
      "5    1736\n",
      "7     864\n",
      "4     173\n",
      "8     157\n",
      "3      24\n",
      "9       4\n",
      "Name: count, dtype: int64\n",
      "Resampled class distribution:\n",
      " quality\n",
      "5    2239\n",
      "7    2239\n",
      "6    2239\n",
      "4    2239\n",
      "8    2239\n",
      "3    2239\n",
      "9    2239\n",
      "Name: count, dtype: int64\n"
     ]
    }
   ],
   "source": [
    "# 각 클래스의 샘플 수 확인\n",
    "print(\"클래스 분포:\\n\", y_train.value_counts())\n",
    "\n",
    "# SMOTE를 사용한 오버샘플링, n_neighbors 조정\n",
    "smote = SMOTE(sampling_strategy='auto', k_neighbors=3, random_state=42)\n",
    "X_train_resampled, y_train_resampled = smote.fit_resample(X_train, y_train)\n",
    "\n",
    "# 오버샘플링 후 클래스 분포 확인\n",
    "print(\"Resampled class distribution:\\n\", pd.Series(y_train_resampled).value_counts())"
   ]
  },
  {
   "cell_type": "markdown",
   "id": "15a4cdf7-2592-4604-88a5-3eff92dcd93c",
   "metadata": {},
   "source": [
    "# 4. 모델 학습 및 평가"
   ]
  },
  {
   "cell_type": "markdown",
   "id": "473cb32d-9941-4d0a-8dcc-d9c5af93b68e",
   "metadata": {},
   "source": [
    "#### 오버샘플링된 학습 데이터를 사용하여 모델을 학습합니다."
   ]
  },
  {
   "cell_type": "code",
   "execution_count": 4,
   "id": "b863c286-bc48-40fb-9fc6-043c56a78b6b",
   "metadata": {},
   "outputs": [
    {
     "name": "stdout",
     "output_type": "stream",
     "text": [
      "정확도: 0.63\n"
     ]
    }
   ],
   "source": [
    "# 랜덤 포레스트 학습\n",
    "rf_model = RandomForestClassifier(n_estimators=100, random_state=42)\n",
    "rf_model.fit(X_train_resampled, y_train_resampled)\n",
    "\n",
    "# 테스트 세트에 대한 예측\n",
    "y_pred = rf_model.predict(X_test)\n",
    "\n",
    "# 모델 평가\n",
    "accuracy = accuracy_score(y_test, y_pred)\n",
    "print(f'정확도: {accuracy:.2f}')"
   ]
  },
  {
   "cell_type": "markdown",
   "id": "7942847d-b0fa-4cbd-a86e-eaffe68bb7c0",
   "metadata": {},
   "source": [
    "# 5. 특징 중요도 시각화"
   ]
  },
  {
   "cell_type": "markdown",
   "id": "be2edc79-5477-4c9b-a24b-e44f7a3e5d51",
   "metadata": {},
   "source": [
    "#### 학습된 랜덤 포레스트 모델의 특징 중요도를 추출하고, 이를 시각화하여 모델이 어떤 특징에 주로 의존하는지를 확인합니다.\n",
    "#### seaborn의 barplot을 사용하여 각 특징의 중요도를 시각적으로 표현합니다."
   ]
  },
  {
   "cell_type": "code",
   "execution_count": 5,
   "id": "14e2f9c6-f691-4135-8924-e46a5de717f2",
   "metadata": {},
   "outputs": [
    {
     "data": {
      "image/png": "[encoded data removed]",
      "text/plain": [
       "<Figure size 1000x600 with 1 Axes>"
      ]
     },
     "metadata": {},
     "output_type": "display_data"
    }
   ],
   "source": [
    "# 특징 중요도 시각화\n",
    "importances = rf_model.feature_importances_\n",
    "feature_names = X.columns\n",
    "\n",
    "# 시각화를 위한 데이터프레임 생성\n",
    "importance_df = pd.DataFrame({'Feature': feature_names, 'Importance': importances})\n",
    "importance_df = importance_df.sort_values(by='Importance', ascending=False)\n",
    "\n",
    "# 특징 중요도 플롯\n",
    "plt.figure(figsize=(10, 6))\n",
    "sns.barplot(data=importance_df, x='Importance', y='Feature', palette='viridis')\n",
    "plt.title('Feature Importance in Random Forest')\n",
    "plt.xlabel('Importance')\n",
    "plt.ylabel('Feature')\n",
    "plt.tight_layout()\n",
    "plt.show()"
   ]
  },
  {
   "cell_type": "code",
   "execution_count": null,
   "id": "e79fbc66-b19f-429b-851c-cd24b12981ba",
   "metadata": {},
   "outputs": [],
   "source": []
  }
 ],
 "metadata": {
  "kernelspec": {
   "display_name": "Python 3 (ipykernel)",
   "language": "python",
   "name": "python3"
  },
  "language_info": {
   "codemirror_mode": {
    "name": "ipython",
    "version": 3
   },
   "file_extension": ".py",
   "mimetype": "text/x-python",
   "name": "python",
   "nbconvert_exporter": "python",
   "pygments_lexer": "ipython3",
   "version": "3.11.7"
  }
 },
 "nbformat": 4,
 "nbformat_minor": 5
}
